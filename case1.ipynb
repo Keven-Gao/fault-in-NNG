{
 "cells": [
  {
   "cell_type": "markdown",
   "metadata": {},
   "source": [
    "Notes:\n",
    "* in data file (.csv), the stratigraphic in `formation` column should be listed from old to young.\n",
    "* in the dataset, the dtype `int64` need to be converted to `float`."
   ]
  },
  {
   "cell_type": "code",
   "execution_count": 14,
   "metadata": {},
   "outputs": [],
   "source": [
    "import warnings\n",
    "warnings.filterwarnings(\"ignore\")\n",
    "\n",
    "import plot\n",
    "import models\n",
    "from feature_ecoding.clip_surface import Fault_feature\n",
    "import torch\n",
    "import pandas as pd\n",
    "import os\n",
    "import importlib"
   ]
  },
  {
   "cell_type": "code",
   "execution_count": 15,
   "metadata": {},
   "outputs": [
    {
     "name": "stdout",
     "output_type": "stream",
     "text": [
      "GPU amount: 1\n",
      "device: cuda\n"
     ]
    }
   ],
   "source": [
    "torch.manual_seed(0)\n",
    "device = torch.device(\"cuda\" if torch.cuda.is_available() else \"cpu\")\n",
    "\n",
    "if torch.cuda.is_available():\n",
    "    num_GPU = torch.cuda.device_count()\n",
    "    print(f\"GPU amount: {num_GPU}\")\n",
    "else:\n",
    "    num_GPU = 0\n",
    "\n",
    "print(f\"device: {device}\")\n",
    "root_path = os.path.abspath('.')"
   ]
  },
  {
   "cell_type": "markdown",
   "metadata": {},
   "source": [
    "1. load observational data"
   ]
  },
  {
   "cell_type": "code",
   "execution_count": 16,
   "metadata": {},
   "outputs": [],
   "source": [
    "# load data\n",
    "surface_points = pd.read_csv(os.path.join(root_path, 'data', 'case1', 'original_data', 'tut_ch1-5_points.csv'))\n",
    "orientation_points = pd.read_csv(os.path.join(root_path, 'data', 'case1', 'original_data', 'tut_ch1-5_orientations.csv'))\n",
    "# convert int64 to float\n",
    "surface_points = surface_points.apply(lambda col: pd.to_numeric(col, errors='ignore').astype(float) if col.dtype == 'int64' else col)\n",
    "orientation_points = orientation_points.apply(lambda col: pd.to_numeric(col, errors='ignore').astype(float) if col.dtype == 'int64' else col)\n",
    "# define the domain boundary\n",
    "extent = [0, 1000, 0, 1000, -1000, -400]"
   ]
  },
  {
   "cell_type": "code",
   "execution_count": 17,
   "metadata": {},
   "outputs": [],
   "source": [
    "# plot the data\n",
    "plot.observation(surface_points, orientation_points, extent)"
   ]
  },
  {
   "cell_type": "markdown",
   "metadata": {},
   "source": [
    "2. modeling fault surfaces\n",
    "* modeling all the faults\n",
    "* in this case, fault1 was cut by fault2, the fault1 need to be manually edited"
   ]
  },
  {
   "cell_type": "code",
   "execution_count": 18,
   "metadata": {},
   "outputs": [
    {
     "name": "stdout",
     "output_type": "stream",
     "text": [
      "Finish modeling fault2 | Loss_i: 0.01689250022172928, Loss_o: 0.01408076286315918\n",
      "Finish modeling fault1 | Loss_i: 0.017417388036847115, Loss_o: 0.015287399291992188\n",
      "------Finish-------\n"
     ]
    }
   ],
   "source": [
    "mesh = models.fault_ConcatMLP(surface_points,           # original data read from csv file\n",
    "                            orientation_points,         # original data read from csv file\n",
    "                            extent,                     # domain boundary\n",
    "                            resolution=[60, 30, 30],    # resolution of the fault mesh, lower resolution can reduce the computation time in feature encoding step\n",
    "                            in_dim=3,                   # input dimension of neural network\n",
    "                            hidden_dim=256,             # hidden layer's dimension of neural network\n",
    "                            out_dim=1,                  # output dimension of neural network, the only output is a scalar value\n",
    "                            n_hidden_layers=2,          # number of hidden layers\n",
    "                            activation='Softplus',      # activation function, default is 'Softplus'\n",
    "                            beta_list=[10, 10],           # `beta` values for Softplus activation function, the length related to the number of faults\n",
    "                            concat = True,              # whether to concat the input features to hidden layers\n",
    "                            epochs=500,                 # number of forward and backward propagation process \n",
    "                            lr=0.001,                   # learning rate\n",
    "                            above_below=False)          # whether to use `above_below` loss function, default is False"
   ]
  },
  {
   "cell_type": "code",
   "execution_count": 19,
   "metadata": {},
   "outputs": [],
   "source": [
    "# manually clip the fault surfaces\n",
    "fault_1 = mesh[0]\n",
    "fault_2 = mesh[1]\n",
    "finit_fault_1 = fault_1.clip_surface(fault_2, invert=True)\n",
    "\n",
    "#plot.fault_mesh([finit_fault_1, fault_2], surface_points, orientation_points, extent)"
   ]
  },
  {
   "cell_type": "markdown",
   "metadata": {},
   "source": [
    "3. fault feature encoding\n",
    "* because fault1 was cut by fault2, the scalar field in the left side of fault2 should be continuous \n",
    "* use mask operation "
   ]
  },
  {
   "cell_type": "code",
   "execution_count": 20,
   "metadata": {},
   "outputs": [],
   "source": [
    "domain_mesh_features, label_interf_all, orie_points_all = Fault_feature.encoding(extents=extent,    # domain boundary\n",
    "                                                            resolution=[100, 100, 100],             # resolution of the domain mesh\n",
    "                                                            mesh_list=mesh,                         # fault mesh list\n",
    "                                                            surface_points=surface_points,          # original data read from csv file\n",
    "                                                            orientation_points=orientation_points,  # original data read from csv file\n",
    "                                                            movement=['up','down'],                 # relative movement in fault right side\n",
    "                                                            fault_direct=['left','right'],          # fault surface direction, insures correct feature encoding\n",
    "                                                            decimate=0.999)   # remove 99.9% of the points in the fault mesh to accelate fault feature encoding"
   ]
  },
  {
   "cell_type": "code",
   "execution_count": 21,
   "metadata": {},
   "outputs": [],
   "source": [
    "# mask operation to change the feature encoding of fault1\n",
    "mask_domain_mesh_features = (domain_mesh_features[:,-2] == 1) & (domain_mesh_features[:,-1] == 1)\n",
    "mask_label_interf_all = (label_interf_all[:,-2] == 1) & (label_interf_all[:,-1] == 1)\n",
    "mask_orie_points_all = (orie_points_all[:,-2] == 1) & (orie_points_all[:,-1] == 1)\n",
    "\n",
    "domain_mesh_features[:,-2][mask_domain_mesh_features] = 0     # [:,-2] is the feature encoding of fault1\n",
    "label_interf_all[:,-2][mask_label_interf_all] = 0    \n",
    "orie_points_all[:,-2][mask_orie_points_all] = 0"
   ]
  },
  {
   "cell_type": "code",
   "execution_count": 22,
   "metadata": {},
   "outputs": [],
   "source": [
    "plot.feature_encoding(mesh_list=[finit_fault_1, fault_2],        # fault mesh list after editing\n",
    "                      number=0,                                  # 0 is the first mesh, 1 is the second mesh\n",
    "                      extent=extent,                             # domain boundary\n",
    "                      type='mesh_point',                         # 'mesh_point' or 'obs_point', visualization type\n",
    "                      side='up',                                 # 'up' or 'down', 'up' is the side which assigned value 1 in the feature encoding\n",
    "                      domain_mesh_features=domain_mesh_features, # meshgrid points of interpreated domain\n",
    "                      label_interf_all=label_interf_all,         # strtigraphic points with labels\n",
    "                      orie_points_all=orie_points_all)           # orientation points "
   ]
  },
  {
   "cell_type": "markdown",
   "metadata": {},
   "source": [
    "4. modeling the discontinuious stratigraphic"
   ]
  },
  {
   "cell_type": "code",
   "execution_count": 23,
   "metadata": {},
   "outputs": [
    {
     "name": "stdout",
     "output_type": "stream",
     "text": [
      "Training losses | Loss_i: 0.0005001435056328773, Loss_o: 6.002187728881836e-05\n",
      "each epoch training time :  0.001788604736328125 seconds\n",
      "Inference time: 0.05800032615661621 seconds\n",
      "------Finish-------\n"
     ]
    }
   ],
   "source": [
    "stratigraphic_mesh, scalar_field_strats = models.stratigraphic_ConcatMLP(interface_data=label_interf_all,  # stratigraphic points with labels\n",
    "                                            orientation_data=orie_points_all,     # orientation points\n",
    "                                            meshgrid_data=domain_mesh_features,   # meshgrid points of interpreated domain\n",
    "                                            extent=extent,                        # domain boundary\n",
    "                                            resolution=[100, 100, 100],           # resolution of the domain mesh\n",
    "                                            in_dim=5,                             # input dimension of neural network\n",
    "                                            hidden_dim=256,                       # hidden layer's dimension of neural network\n",
    "                                            out_dim=1,                            # output dimension of neural network, the only output is a scalar value\n",
    "                                            n_hidden_layers=2,                    # number of hidden layers\n",
    "                                            activation='Softplus',                # activation function, default is 'Softplus'\n",
    "                                            beta=1,                               # `beta` value for Softplus activation function\n",
    "                                            concat=False,                         # whether to concat the input features to hidden layers\n",
    "                                            epochs=1000,                          # number of forward and backward propagation process\n",
    "                                            lr=0.001)                             # learning rate                      "
   ]
  },
  {
   "cell_type": "code",
   "execution_count": 24,
   "metadata": {},
   "outputs": [],
   "source": [
    "plot.stratigraphic(scalar_field_strats)"
   ]
  },
  {
   "cell_type": "code",
   "execution_count": 25,
   "metadata": {},
   "outputs": [],
   "source": [
    "plot.final_structure(fautl_mesh_list = [finit_fault_1, fault_2],   # fault mesh list after editing\n",
    "                        stratigraphic_mesh = stratigraphic_mesh,   # stratigraphic mesh\n",
    "                        observation_data=True,                     # whether to plot the observation data, default is False\n",
    "                        surface_points = surface_points,           # observation interface data\n",
    "                        orientation_points = orientation_points,   # observation rientation data\n",
    "                        extent=extent)                            # domain boundary   "
   ]
  },
  {
   "cell_type": "code",
   "execution_count": 26,
   "metadata": {},
   "outputs": [
    {
     "data": {
      "image/png": "[encoded data removed]",
      "text/plain": [
       "<Figure size 600x300 with 2 Axes>"
      ]
     },
     "metadata": {},
     "output_type": "display_data"
    }
   ],
   "source": [
    "plot.slice(scalar_field_strats, extent, save_image=True)"
   ]
  },
  {
   "cell_type": "code",
   "execution_count": null,
   "metadata": {},
   "outputs": [],
   "source": []
  },
  {
   "cell_type": "code",
   "execution_count": null,
   "metadata": {},
   "outputs": [],
   "source": []
  }
 ],
 "metadata": {
  "kernelspec": {
   "display_name": "ml_modeling",
   "language": "python",
   "name": "python3"
  },
  "language_info": {
   "codemirror_mode": {
    "name": "ipython",
    "version": 3
   },
   "file_extension": ".py",
   "mimetype": "text/x-python",
   "name": "python",
   "nbconvert_exporter": "python",
   "pygments_lexer": "ipython3",
   "version": "3.9.15"
  }
 },
 "nbformat": 4,
 "nbformat_minor": 2
}
